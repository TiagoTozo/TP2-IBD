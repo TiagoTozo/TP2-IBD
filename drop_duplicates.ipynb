{
 "cells": [
  {
   "cell_type": "code",
   "execution_count": 1,
   "metadata": {},
   "outputs": [],
   "source": [
    "import pandas as pd\n",
    "import numpy as np"
   ]
  },
  {
   "cell_type": "code",
   "execution_count": 7,
   "metadata": {},
   "outputs": [],
   "source": [
    "nomes = ['bioma.csv','estados.csv' ,\\\n",
    "'queimadas.csv', 'data.csv',  'florestas_plantadas.csv', 'terra_indigena.csv', \\\n",
    "'desmatamento.csv', 'estado_bioma.csv' ]\n",
    "chaves = [['Bioma'], ['UF'], ['ID_data', 'UF'], ['ID_data'],['ID_data', 'UF'],['TERRA_INDIGENA'],  ['ID_data', 'Bioma', 'UF'], ['Bioma', 'UF'] ]"
   ]
  },
  {
   "cell_type": "code",
   "execution_count": 6,
   "metadata": {},
   "outputs": [],
   "source": [
    "nomes_virugla = ['terra_indigena.csv','florestas_plantadas.csv','estado_bioma.csv' ,'bioma.csv']\n",
    "nomes_ponto_virgula = ['queimadas.csv','estados.csv', 'desmatamento.csv','data.csv']"
   ]
  },
  {
   "cell_type": "code",
   "execution_count": 23,
   "metadata": {},
   "outputs": [
    {
     "data": {
      "text/plain": [
       "[('Caatinga', 1117400, 5359300),\n",
       " ('Cerrado', 6489700, 17735500),\n",
       " ('Mata Atlântica', 2871100, 8671900),\n",
       " ('Pampa', 85400, 440300),\n",
       " ('Pantanal', 440300, 2222),\n",
       " ('Amazônia Legal', 43019000, 76658900)]"
      ]
     },
     "execution_count": 23,
     "metadata": {},
     "output_type": "execute_result"
    }
   ],
   "source": [
    "zip(*[df[col] for col in df])"
   ]
  },
  {
   "cell_type": "code",
   "execution_count": 29,
   "metadata": {
    "scrolled": true
   },
   "outputs": [
    {
     "name": "stdout",
     "output_type": "stream",
     "text": [
      "['Bioma', 'Area_proteção_integral', 'Area_uso_sustentavel']\n",
      "['UF', 'Estado', 'Regiao', 'Número_habitantes']\n",
      "['ID_data', 'UF', 'Qnt_focos']\n",
      "['ID_data', 'Ano', 'Mês']\n",
      "['ID_data', 'UF', 'Especie', 'Area']\n",
      "['TERRA_INDIGENA', 'ETNIA', 'UF', 'MODALIDADE', 'AREA']\n",
      "['ID_data', 'UF', 'Bioma', 'Area_desmatada_hec']\n",
      "['Bioma', 'UF']\n"
     ]
    }
   ],
   "source": [
    "for i in range(len(nomes)):\n",
    "    source = 'DataSets/' + nomes[i]\n",
    "    if nomes[i] in nomes_virugla:       \n",
    "        try:\n",
    "            df = pd.read_csv(source , sep = ',')\n",
    "        except:\n",
    "            df = pd.read_csv(source , sep = ',', encoding = 'latin-1')            \n",
    "    elif nomes[i] in nomes_ponto_virgula:\n",
    "        try:\n",
    "            df = pd.read_csv(source , sep = ';')\n",
    "        except:\n",
    "            df = pd.read_csv(source , sep = ';', encoding = 'latin-1')\n",
    "    \n",
    "    df.drop_duplicates(subset = chaves[i],inplace = True , keep = 'first')\n",
    "    \n",
    "    #escrevendo csv concertado\n",
    "    diret = 'upar/' + nomes[i]\n",
    "    file = open(diret , 'w')\n",
    "    \n",
    "    #escrevendo cabecalho\n",
    "    \n",
    "    colunas = df.columns.tolist()\n",
    "    print(colunas)\n",
    "    cabecalho = ''\n",
    "    for j in range(len(colunas)):\n",
    "        if j == len(colunas) - 1:\n",
    "            cabecalho += str(colunas[j]) + '\\n'\n",
    "        else:\n",
    "            cabecalho += str(colunas[j]) + ';'\n",
    "    file.write(cabecalho)\n",
    "    \n",
    "        \n",
    "    for row in zip(*[df[col] for col in df]):\n",
    "        linha = ''\n",
    "        for j in range(len(row)):\n",
    "            if j == len(row)-1:\n",
    "                 linha += str(row[j]) +'\\n'\n",
    "            else:\n",
    "                linha += str(row[j]) +';'        \n",
    "        file.write(linha)\n",
    "        \n",
    "    file.close()    "
   ]
  },
  {
   "cell_type": "code",
   "execution_count": 37,
   "metadata": {},
   "outputs": [],
   "source": [
    "#isso aqui é eu testando"
   ]
  },
  {
   "cell_type": "code",
   "execution_count": 35,
   "metadata": {},
   "outputs": [
    {
     "data": {
      "text/html": [
       "<div>\n",
       "<style scoped>\n",
       "    .dataframe tbody tr th:only-of-type {\n",
       "        vertical-align: middle;\n",
       "    }\n",
       "\n",
       "    .dataframe tbody tr th {\n",
       "        vertical-align: top;\n",
       "    }\n",
       "\n",
       "    .dataframe thead th {\n",
       "        text-align: right;\n",
       "    }\n",
       "</style>\n",
       "<table border=\"1\" class=\"dataframe\">\n",
       "  <thead>\n",
       "    <tr style=\"text-align: right;\">\n",
       "      <th></th>\n",
       "      <th>anos</th>\n",
       "      <th>id</th>\n",
       "    </tr>\n",
       "  </thead>\n",
       "  <tbody>\n",
       "    <tr>\n",
       "      <th>0</th>\n",
       "      <td>1</td>\n",
       "      <td>5</td>\n",
       "    </tr>\n",
       "    <tr>\n",
       "      <th>1</th>\n",
       "      <td>2</td>\n",
       "      <td>6</td>\n",
       "    </tr>\n",
       "    <tr>\n",
       "      <th>2</th>\n",
       "      <td>2</td>\n",
       "      <td>6</td>\n",
       "    </tr>\n",
       "    <tr>\n",
       "      <th>3</th>\n",
       "      <td>4</td>\n",
       "      <td>8</td>\n",
       "    </tr>\n",
       "  </tbody>\n",
       "</table>\n",
       "</div>"
      ],
      "text/plain": [
       "   anos  id\n",
       "0     1   5\n",
       "1     2   6\n",
       "2     2   6\n",
       "3     4   8"
      ]
     },
     "execution_count": 35,
     "metadata": {},
     "output_type": "execute_result"
    }
   ],
   "source": [
    "a = pd.DataFrame({'anos': [1,2,2,4] , 'id': [5,6,6,8]})\n",
    "a"
   ]
  },
  {
   "cell_type": "code",
   "execution_count": 36,
   "metadata": {},
   "outputs": [
    {
     "data": {
      "text/html": [
       "<div>\n",
       "<style scoped>\n",
       "    .dataframe tbody tr th:only-of-type {\n",
       "        vertical-align: middle;\n",
       "    }\n",
       "\n",
       "    .dataframe tbody tr th {\n",
       "        vertical-align: top;\n",
       "    }\n",
       "\n",
       "    .dataframe thead th {\n",
       "        text-align: right;\n",
       "    }\n",
       "</style>\n",
       "<table border=\"1\" class=\"dataframe\">\n",
       "  <thead>\n",
       "    <tr style=\"text-align: right;\">\n",
       "      <th></th>\n",
       "      <th>anos</th>\n",
       "      <th>id</th>\n",
       "    </tr>\n",
       "  </thead>\n",
       "  <tbody>\n",
       "    <tr>\n",
       "      <th>0</th>\n",
       "      <td>1</td>\n",
       "      <td>5</td>\n",
       "    </tr>\n",
       "    <tr>\n",
       "      <th>1</th>\n",
       "      <td>2</td>\n",
       "      <td>6</td>\n",
       "    </tr>\n",
       "    <tr>\n",
       "      <th>3</th>\n",
       "      <td>4</td>\n",
       "      <td>8</td>\n",
       "    </tr>\n",
       "  </tbody>\n",
       "</table>\n",
       "</div>"
      ],
      "text/plain": [
       "   anos  id\n",
       "0     1   5\n",
       "1     2   6\n",
       "3     4   8"
      ]
     },
     "execution_count": 36,
     "metadata": {},
     "output_type": "execute_result"
    }
   ],
   "source": [
    "a.drop_duplicates(subset = ['anos', 'id'], keep = 'first')"
   ]
  },
  {
   "cell_type": "code",
   "execution_count": null,
   "metadata": {},
   "outputs": [],
   "source": []
  }
 ],
 "metadata": {
  "kernelspec": {
   "display_name": "Python 3",
   "language": "python",
   "name": "python3"
  },
  "language_info": {
   "codemirror_mode": {
    "name": "ipython",
    "version": 3
   },
   "file_extension": ".py",
   "mimetype": "text/x-python",
   "name": "python",
   "nbconvert_exporter": "python",
   "pygments_lexer": "ipython3",
   "version": "3.7.3"
  }
 },
 "nbformat": 4,
 "nbformat_minor": 2
}
