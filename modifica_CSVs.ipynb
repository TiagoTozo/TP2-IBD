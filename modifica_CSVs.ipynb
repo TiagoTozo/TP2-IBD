{
 "cells": [
  {
   "cell_type": "code",
   "execution_count": 1,
   "metadata": {},
   "outputs": [],
   "source": [
    "import io\n",
    "import pandas as pd\n",
    "import sqlite3"
   ]
  },
  {
   "cell_type": "code",
   "execution_count": 23,
   "metadata": {},
   "outputs": [],
   "source": [
    "f_e = open('tenta/estados.csv', 'w')"
   ]
  },
  {
   "cell_type": "code",
   "execution_count": 24,
   "metadata": {},
   "outputs": [],
   "source": [
    "estados = ['Acre','Alagoas','Amapá','Amazonas', 'Bahia', 'Ceará', 'Distrito Federal', 'Espírito Santo', 'Goiás', 'Maranhão',\\\n",
    "           'Mato Grosso', 'Mato Grosso do Sul', 'Minas Gerais', 'Pará', 'Paraíba', 'Paraná', 'Pernambuco', 'Piauí', 'Rio de Janeiro',\\\n",
    "          'Rio Grande do Norte', 'Rio Grande do Sul', 'Rondônia', 'Roraima', 'Santa Catarina', 'São Paulo', 'Sergipe','Tocantins']\n",
    "centro_oeste = ['Goiás', 'Mato Grosso' , 'Mato Grosso do Sul', 'Distrito Federal']\n",
    "nordeste = ['Alagoas', 'Bahia', 'Ceará', 'Maranhão', 'Paraíba', 'Pernambuco', 'Piauí', 'Rio Grande do Norte' , 'Sergipe']\n",
    "norte = ['Acre', 'Amapá', 'Amazonas', 'Pará', 'Rondônia', 'Roraima' , 'Tocantins']\n",
    "sudeste = ['Espírito Santo', 'Minas Gerais', 'Rio de Janeiro' , 'São Paulo']\n",
    "sul = ['Paraná', 'Rio Grande do Sul', 'Santa Catarina']"
   ]
  },
  {
   "cell_type": "code",
   "execution_count": 25,
   "metadata": {},
   "outputs": [],
   "source": [
    "f_e.write('Estado;Regiao\\n')\n",
    "for estado in estados:\n",
    "    if estado in centro_oeste:\n",
    "        f_e.write(estado +';'+ 'Centro-Oeste' +'\\n')\n",
    "    elif estado in nordeste:        \n",
    "        f_e.write(estado +';'+ 'Nordeste' +'\\n')        \n",
    "    elif estado in norte:        \n",
    "        f_e.write(estado +';'+ 'Norte' +'\\n')\n",
    "    elif estado in sudeste:        \n",
    "        f_e.write(estado +';'+ 'Sudeste' +'\\n')\n",
    "    elif estado in sul:        \n",
    "        f_e.write(estado +';'+ 'Sul' +'\\n')\n",
    "    else:\n",
    "        print('erro, estado' +  estado + ' não ta em nenhuma regiao')"
   ]
  },
  {
   "cell_type": "code",
   "execution_count": 26,
   "metadata": {},
   "outputs": [],
   "source": [
    "f_e.close()"
   ]
  },
  {
   "cell_type": "code",
   "execution_count": 14,
   "metadata": {},
   "outputs": [],
   "source": [
    "f_d = open('tenta/data.csv', 'w')"
   ]
  },
  {
   "cell_type": "code",
   "execution_count": 15,
   "metadata": {},
   "outputs": [],
   "source": [
    "ano = []\n",
    "for i in range(1994,2019,1):\n",
    "    ano.append(i)\n",
    "    \n",
    "mes = ['Janeiro', 'Fevereiro', 'Março', 'Abril', 'Maio', 'Junho', 'Julho', 'Agosto',\\\n",
    "       'Setembro', 'Outubro', 'Novembro', 'Dezembro', 'Inexistente']\n",
    "id_ = 0"
   ]
  },
  {
   "cell_type": "code",
   "execution_count": 16,
   "metadata": {},
   "outputs": [],
   "source": [
    "f_d.write('ID_data;Ano;Mês\\n')\n",
    "for i in ano:\n",
    "    for j in mes:\n",
    "        f_d.write(str(id_)+ ';' + str(i) + ';' + j + '\\n')\n",
    "        id_ += 1"
   ]
  },
  {
   "cell_type": "code",
   "execution_count": 17,
   "metadata": {},
   "outputs": [],
   "source": [
    "f_d.close()"
   ]
  },
  {
   "cell_type": "code",
   "execution_count": 27,
   "metadata": {},
   "outputs": [],
   "source": [
    "f_b = open('tenta/bioma.csv', 'w')"
   ]
  },
  {
   "cell_type": "code",
   "execution_count": 30,
   "metadata": {},
   "outputs": [],
   "source": [
    "df = pd.read_csv('dados/desmatamento_bioma.csv', sep = ';')"
   ]
  },
  {
   "cell_type": "code",
   "execution_count": 38,
   "metadata": {},
   "outputs": [],
   "source": [
    "biomas = df['Bioma'].unique().tolist()\n",
    "biomas.append('Amazônia Legal')"
   ]
  },
  {
   "cell_type": "code",
   "execution_count": 40,
   "metadata": {},
   "outputs": [],
   "source": [
    "f_b.write('ID_Bioma;Bioma\\n')\n",
    "for i in range(len(biomas)):\n",
    "    f_b.write(str(i) + ';' + biomas[i] + '\\n')"
   ]
  },
  {
   "cell_type": "code",
   "execution_count": 41,
   "metadata": {},
   "outputs": [],
   "source": [
    "f_b.close()"
   ]
  },
  {
   "cell_type": "code",
   "execution_count": 72,
   "metadata": {},
   "outputs": [],
   "source": [
    "df = pd.read_csv('tenta/extracao_pfm_1994-2016.csv', sep =';', encoding = 'latin-1')"
   ]
  },
  {
   "cell_type": "code",
   "execution_count": 62,
   "metadata": {},
   "outputs": [
    {
     "data": {
      "text/html": [
       "<div>\n",
       "<style scoped>\n",
       "    .dataframe tbody tr th:only-of-type {\n",
       "        vertical-align: middle;\n",
       "    }\n",
       "\n",
       "    .dataframe tbody tr th {\n",
       "        vertical-align: top;\n",
       "    }\n",
       "\n",
       "    .dataframe thead th {\n",
       "        text-align: right;\n",
       "    }\n",
       "</style>\n",
       "<table border=\"1\" class=\"dataframe\">\n",
       "  <thead>\n",
       "    <tr style=\"text-align: right;\">\n",
       "      <th></th>\n",
       "      <th>Tipo de produto florestal</th>\n",
       "      <th>Tipo de Floresta</th>\n",
       "      <th>Tipo de Uso</th>\n",
       "      <th>Tipo de produto extrativo (com código)</th>\n",
       "      <th>Tipo de produto extrativo</th>\n",
       "      <th>Unidade de Medida PEVS</th>\n",
       "      <th>Unidade de Medida transformada</th>\n",
       "      <th>Ano_PEVS</th>\n",
       "      <th>Quantidade PEVS</th>\n",
       "      <th>Quantidade transformada</th>\n",
       "      <th>Valor (mil reais)</th>\n",
       "    </tr>\n",
       "  </thead>\n",
       "  <tbody>\n",
       "    <tr>\n",
       "      <th>0</th>\n",
       "      <td>PFNM</td>\n",
       "      <td>Floresta Natural</td>\n",
       "      <td>Alimentícios</td>\n",
       "      <td>1.1 - Açaí (fruto) (Toneladas)</td>\n",
       "      <td>Açaí (fruto)</td>\n",
       "      <td>Toneladas</td>\n",
       "      <td>Toneladas</td>\n",
       "      <td>1994</td>\n",
       "      <td>98857.0</td>\n",
       "      <td>98857.0</td>\n",
       "      <td>46312.0</td>\n",
       "    </tr>\n",
       "    <tr>\n",
       "      <th>1</th>\n",
       "      <td>PFNM</td>\n",
       "      <td>Floresta Natural</td>\n",
       "      <td>Alimentícios</td>\n",
       "      <td>1.1 - Açaí (fruto) (Toneladas)</td>\n",
       "      <td>Açaí (fruto)</td>\n",
       "      <td>Toneladas</td>\n",
       "      <td>Toneladas</td>\n",
       "      <td>1995</td>\n",
       "      <td>108922.0</td>\n",
       "      <td>108922.0</td>\n",
       "      <td>35075.0</td>\n",
       "    </tr>\n",
       "    <tr>\n",
       "      <th>2</th>\n",
       "      <td>PFNM</td>\n",
       "      <td>Floresta Natural</td>\n",
       "      <td>Alimentícios</td>\n",
       "      <td>1.1 - Açaí (fruto) (Toneladas)</td>\n",
       "      <td>Açaí (fruto)</td>\n",
       "      <td>Toneladas</td>\n",
       "      <td>Toneladas</td>\n",
       "      <td>1996</td>\n",
       "      <td>111438.0</td>\n",
       "      <td>111438.0</td>\n",
       "      <td>51801.0</td>\n",
       "    </tr>\n",
       "  </tbody>\n",
       "</table>\n",
       "</div>"
      ],
      "text/plain": [
       "  Tipo de produto florestal  Tipo de Floresta   Tipo de Uso  \\\n",
       "0                      PFNM  Floresta Natural  Alimentícios   \n",
       "1                      PFNM  Floresta Natural  Alimentícios   \n",
       "2                      PFNM  Floresta Natural  Alimentícios   \n",
       "\n",
       "  Tipo de produto extrativo (com código) Tipo de produto extrativo  \\\n",
       "0         1.1 - Açaí (fruto) (Toneladas)              Açaí (fruto)   \n",
       "1         1.1 - Açaí (fruto) (Toneladas)              Açaí (fruto)   \n",
       "2         1.1 - Açaí (fruto) (Toneladas)              Açaí (fruto)   \n",
       "\n",
       "  Unidade de Medida PEVS Unidade de Medida transformada  Ano_PEVS  \\\n",
       "0              Toneladas                      Toneladas      1994   \n",
       "1              Toneladas                      Toneladas      1995   \n",
       "2              Toneladas                      Toneladas      1996   \n",
       "\n",
       "   Quantidade PEVS  Quantidade transformada  Valor (mil reais)  \n",
       "0          98857.0                  98857.0            46312.0  \n",
       "1         108922.0                 108922.0            35075.0  \n",
       "2         111438.0                 111438.0            51801.0  "
      ]
     },
     "execution_count": 62,
     "metadata": {},
     "output_type": "execute_result"
    }
   ],
   "source": [
    "df.head(3)"
   ]
  },
  {
   "cell_type": "code",
   "execution_count": 92,
   "metadata": {},
   "outputs": [
    {
     "data": {
      "text/html": [
       "<div>\n",
       "<style scoped>\n",
       "    .dataframe tbody tr th:only-of-type {\n",
       "        vertical-align: middle;\n",
       "    }\n",
       "\n",
       "    .dataframe tbody tr th {\n",
       "        vertical-align: top;\n",
       "    }\n",
       "\n",
       "    .dataframe thead th {\n",
       "        text-align: right;\n",
       "    }\n",
       "</style>\n",
       "<table border=\"1\" class=\"dataframe\">\n",
       "  <thead>\n",
       "    <tr style=\"text-align: right;\">\n",
       "      <th></th>\n",
       "      <th>Tipo de produto extrativo</th>\n",
       "      <th>Tipo de Uso</th>\n",
       "    </tr>\n",
       "  </thead>\n",
       "  <tbody>\n",
       "    <tr>\n",
       "      <th>0</th>\n",
       "      <td>Açaí (fruto)</td>\n",
       "      <td>Alimentícios</td>\n",
       "    </tr>\n",
       "    <tr>\n",
       "      <th>1</th>\n",
       "      <td>Açaí (fruto)</td>\n",
       "      <td>Alimentícios</td>\n",
       "    </tr>\n",
       "    <tr>\n",
       "      <th>2</th>\n",
       "      <td>Açaí (fruto)</td>\n",
       "      <td>Alimentícios</td>\n",
       "    </tr>\n",
       "  </tbody>\n",
       "</table>\n",
       "</div>"
      ],
      "text/plain": [
       "  Tipo de produto extrativo   Tipo de Uso\n",
       "0              Açaí (fruto)  Alimentícios\n",
       "1              Açaí (fruto)  Alimentícios\n",
       "2              Açaí (fruto)  Alimentícios"
      ]
     },
     "execution_count": 92,
     "metadata": {},
     "output_type": "execute_result"
    }
   ],
   "source": [
    "aux = pd.DataFrame(df[['Tipo de produto extrativo','Tipo de Uso']])\n",
    "aux.head(3)"
   ]
  },
  {
   "cell_type": "code",
   "execution_count": 103,
   "metadata": {},
   "outputs": [],
   "source": [
    "temp = []\n",
    "for i, row in aux.iterrows():\n",
    "    if (row['Tipo de produto extrativo'], row['Tipo de Uso']) not in temp:\n",
    "        temp.append((row['Tipo de produto extrativo'], row['Tipo de Uso']))"
   ]
  },
  {
   "cell_type": "code",
   "execution_count": 111,
   "metadata": {},
   "outputs": [
    {
     "data": {
      "text/plain": [
       "[('Açaí (fruto)', 'Alimentícios'),\n",
       " ('Castanha de cajú', 'Alimentícios'),\n",
       " ('Castanha-do-Pará', 'Alimentícios')]"
      ]
     },
     "execution_count": 111,
     "metadata": {},
     "output_type": "execute_result"
    }
   ],
   "source": [
    "temp[0:3]"
   ]
  },
  {
   "cell_type": "code",
   "execution_count": 114,
   "metadata": {},
   "outputs": [],
   "source": [
    "f_p = open('tenta/produtos.csv','w')"
   ]
  },
  {
   "cell_type": "code",
   "execution_count": 115,
   "metadata": {},
   "outputs": [],
   "source": [
    "f_p.write('Tipo de produto extrativo;Tipo de Uso\\n')\n",
    "for item in temp:\n",
    "    f_p.write(item[0] + ';' + item[1] +'\\n')"
   ]
  },
  {
   "cell_type": "code",
   "execution_count": 116,
   "metadata": {},
   "outputs": [],
   "source": [
    "f_p.close()"
   ]
  },
  {
   "cell_type": "code",
   "execution_count": null,
   "metadata": {},
   "outputs": [],
   "source": []
  }
 ],
 "metadata": {
  "kernelspec": {
   "display_name": "Python 3",
   "language": "python",
   "name": "python3"
  },
  "language_info": {
   "codemirror_mode": {
    "name": "ipython",
    "version": 3
   },
   "file_extension": ".py",
   "mimetype": "text/x-python",
   "name": "python",
   "nbconvert_exporter": "python",
   "pygments_lexer": "ipython3",
   "version": "3.7.3"
  }
 },
 "nbformat": 4,
 "nbformat_minor": 2
}
