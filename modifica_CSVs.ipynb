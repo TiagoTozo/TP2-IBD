{
 "cells": [
  {
   "cell_type": "code",
   "execution_count": 1,
   "metadata": {},
   "outputs": [],
   "source": [
    "import io\n",
    "import pandas as pd\n",
    "import numpy as np\n",
    "import sqlite3"
   ]
  },
  {
   "cell_type": "markdown",
   "metadata": {},
   "source": [
    "# CSV Estado"
   ]
  },
  {
   "cell_type": "code",
   "execution_count": 34,
   "metadata": {},
   "outputs": [],
   "source": [
    "f_e = open('tenta/estados.csv', 'w')"
   ]
  },
  {
   "cell_type": "code",
   "execution_count": 35,
   "metadata": {},
   "outputs": [],
   "source": [
    "estados = ['Acre','Alagoas','Amapá','Amazonas', 'Bahia', 'Ceará', 'Distrito Federal', 'Espírito Santo', 'Goiás', 'Maranhão',\\\n",
    "           'Mato Grosso', 'Mato Grosso do Sul', 'Minas Gerais', 'Pará', 'Paraíba', 'Paraná', 'Pernambuco', 'Piauí', 'Rio de Janeiro',\\\n",
    "          'Rio Grande do Norte', 'Rio Grande do Sul', 'Rondônia', 'Roraima', 'Santa Catarina', 'São Paulo', 'Sergipe','Tocantins', 'Não informado']\n",
    "centro_oeste = ['Goiás', 'Mato Grosso' , 'Mato Grosso do Sul', 'Distrito Federal']\n",
    "nordeste = ['Alagoas', 'Bahia', 'Ceará', 'Maranhão', 'Paraíba', 'Pernambuco', 'Piauí', 'Rio Grande do Norte' , 'Sergipe']\n",
    "norte = ['Acre', 'Amapá', 'Amazonas', 'Pará', 'Rondônia', 'Roraima' , 'Tocantins']\n",
    "sudeste = ['Espírito Santo', 'Minas Gerais', 'Rio de Janeiro' , 'São Paulo']\n",
    "sul = ['Paraná', 'Rio Grande do Sul', 'Santa Catarina']\n",
    "\n",
    "UFs = ['AC', 'AL', 'AP', 'AM', 'BA', 'CE', 'DF', 'ES', 'GO', 'MA', 'MT', 'MS', 'MG', 'PA', \\\n",
    "      'PB', 'PR', 'PE', 'PI', 'RJ', 'RN', 'RS', 'RO', 'RR', 'SC', 'SP', 'SE', 'TO', 'NI']\n",
    "Pop = ['795.145','3.327.551', '756.500', '3.893.763', '15.150.143','8.867.448', '2.867.869','3.894.899', '6.551.322',\\\n",
    "      '6.861.924', '3.236.578','2.630.098', '20.777.672', '8.101.180', '3.950.359' , '11.112.062',\\\n",
    "      '9.297.861', '3.198.185', '16.497.395', '3.419.550', '11.228.091', '1.755.015',\\\n",
    "      '500.826', '6.734.568', '44.169.350', '2.227.294', '1.502.759', 'Não informado']"
   ]
  },
  {
   "cell_type": "code",
   "execution_count": 36,
   "metadata": {},
   "outputs": [],
   "source": [
    "f_e.write('UF;Estado;Regiao;Número_habitantes\\n')\n",
    "for i in range(len(estados)):\n",
    "    if estados[i] in centro_oeste:\n",
    "        f_e.write(UFs[i]+ ';' + estados[i] +';'+ 'Centro-Oeste' +';'+Pop[i] +'\\n')\n",
    "    elif estados[i] in nordeste:        \n",
    "        f_e.write(UFs[i]+ ';'+ estados[i] +';'+ 'Nordeste' +';'+Pop[i] +'\\n')        \n",
    "    elif estados[i] in norte:        \n",
    "        f_e.write(UFs[i]+ ';'+ estados[i] +';'+ 'Norte' +';'+Pop[i] +'\\n')\n",
    "    elif estados[i] in sudeste:        \n",
    "        f_e.write(UFs[i]+ ';'+ estados[i] +';'+ 'Sudeste' +';'+Pop[i] +'\\n')\n",
    "    elif estados[i] in sul:        \n",
    "        f_e.write(UFs[i]+ ';'+ estados[i] +';'+ 'Sul' +';'+Pop[i] +'\\n')\n",
    "    else:\n",
    "        f_e.write(UFs[i]+ ';'+ estados[i] +';'+ 'Não informado' +';'+Pop[i] +'\\n')"
   ]
  },
  {
   "cell_type": "code",
   "execution_count": 37,
   "metadata": {},
   "outputs": [],
   "source": [
    "f_e.close()"
   ]
  },
  {
   "cell_type": "markdown",
   "metadata": {},
   "source": [
    "# CSV Data"
   ]
  },
  {
   "cell_type": "code",
   "execution_count": 3,
   "metadata": {},
   "outputs": [],
   "source": [
    "f_d = open('tenta/data.csv', 'w')"
   ]
  },
  {
   "cell_type": "code",
   "execution_count": 4,
   "metadata": {},
   "outputs": [],
   "source": [
    "ano = []\n",
    "for i in range(1994,2019,1):\n",
    "    ano.append(i)\n",
    "    \n",
    "mes = ['Janeiro', 'Fevereiro', 'Março', 'Abril', 'Maio', 'Junho', 'Julho', 'Agosto',\\\n",
    "       'Setembro', 'Outubro', 'Novembro', 'Dezembro', 'Inexistente']\n",
    "id_ = 0"
   ]
  },
  {
   "cell_type": "code",
   "execution_count": 5,
   "metadata": {},
   "outputs": [],
   "source": [
    "f_d.write('ID_data;Ano;Mês\\n')\n",
    "for i in ano:\n",
    "    for j in mes:\n",
    "        f_d.write(str(id_)+ ';' + str(i) + ';' + j + '\\n')\n",
    "        id_ += 1"
   ]
  },
  {
   "cell_type": "code",
   "execution_count": 6,
   "metadata": {},
   "outputs": [],
   "source": [
    "f_d.close()"
   ]
  },
  {
   "cell_type": "markdown",
   "metadata": {},
   "source": [
    "# CSV Bioma"
   ]
  },
  {
   "cell_type": "code",
   "execution_count": 14,
   "metadata": {},
   "outputs": [],
   "source": [
    "df = pd.read_csv('DataSets/desmatamento_bioma.csv', sep = ';')"
   ]
  },
  {
   "cell_type": "code",
   "execution_count": 16,
   "metadata": {},
   "outputs": [],
   "source": [
    "f_b = open('upar/bioma.csv', 'w')"
   ]
  },
  {
   "cell_type": "code",
   "execution_count": 17,
   "metadata": {},
   "outputs": [],
   "source": [
    "biomas = df['Bioma'].unique().tolist()\n",
    "biomas.append('Amazônia Legal')"
   ]
  },
  {
   "cell_type": "code",
   "execution_count": 18,
   "metadata": {},
   "outputs": [],
   "source": [
    "f_b.write('ID_Bioma;Bioma\\n')\n",
    "for i in range(len(biomas)):\n",
    "    f_b.write(str(i) + ';' + biomas[i] + '\\n')"
   ]
  },
  {
   "cell_type": "code",
   "execution_count": 19,
   "metadata": {},
   "outputs": [],
   "source": [
    "f_b.close()"
   ]
  },
  {
   "cell_type": "markdown",
   "metadata": {},
   "source": [
    "# CSV Produtos"
   ]
  },
  {
   "cell_type": "code",
   "execution_count": 15,
   "metadata": {},
   "outputs": [],
   "source": [
    "df = pd.read_csv('tenta/extracao_pfm_1994-2016.csv', sep =';', encoding = 'latin-1')"
   ]
  },
  {
   "cell_type": "code",
   "execution_count": 16,
   "metadata": {},
   "outputs": [
    {
     "data": {
      "text/html": [
       "<div>\n",
       "<style scoped>\n",
       "    .dataframe tbody tr th:only-of-type {\n",
       "        vertical-align: middle;\n",
       "    }\n",
       "\n",
       "    .dataframe tbody tr th {\n",
       "        vertical-align: top;\n",
       "    }\n",
       "\n",
       "    .dataframe thead th {\n",
       "        text-align: right;\n",
       "    }\n",
       "</style>\n",
       "<table border=\"1\" class=\"dataframe\">\n",
       "  <thead>\n",
       "    <tr style=\"text-align: right;\">\n",
       "      <th></th>\n",
       "      <th>Tipo de produto extrativo</th>\n",
       "      <th>Tipo de Uso</th>\n",
       "    </tr>\n",
       "  </thead>\n",
       "  <tbody>\n",
       "    <tr>\n",
       "      <th>0</th>\n",
       "      <td>Açaí (fruto)</td>\n",
       "      <td>Alimentícios</td>\n",
       "    </tr>\n",
       "    <tr>\n",
       "      <th>1</th>\n",
       "      <td>Açaí (fruto)</td>\n",
       "      <td>Alimentícios</td>\n",
       "    </tr>\n",
       "    <tr>\n",
       "      <th>2</th>\n",
       "      <td>Açaí (fruto)</td>\n",
       "      <td>Alimentícios</td>\n",
       "    </tr>\n",
       "  </tbody>\n",
       "</table>\n",
       "</div>"
      ],
      "text/plain": [
       "  Tipo de produto extrativo   Tipo de Uso\n",
       "0              Açaí (fruto)  Alimentícios\n",
       "1              Açaí (fruto)  Alimentícios\n",
       "2              Açaí (fruto)  Alimentícios"
      ]
     },
     "execution_count": 16,
     "metadata": {},
     "output_type": "execute_result"
    }
   ],
   "source": [
    "aux = pd.DataFrame(df[['Tipo de produto extrativo','Tipo de Uso']])\n",
    "aux.head(3)"
   ]
  },
  {
   "cell_type": "code",
   "execution_count": 17,
   "metadata": {},
   "outputs": [],
   "source": [
    "temp = []\n",
    "for i, row in aux.iterrows():\n",
    "    if (row['Tipo de produto extrativo'], row['Tipo de Uso']) not in temp:\n",
    "        temp.append((row['Tipo de produto extrativo'], row['Tipo de Uso']))"
   ]
  },
  {
   "cell_type": "code",
   "execution_count": 18,
   "metadata": {},
   "outputs": [
    {
     "data": {
      "text/plain": [
       "[('Açaí (fruto)', 'Alimentícios'),\n",
       " ('Castanha de cajú', 'Alimentícios'),\n",
       " ('Castanha-do-Pará', 'Alimentícios')]"
      ]
     },
     "execution_count": 18,
     "metadata": {},
     "output_type": "execute_result"
    }
   ],
   "source": [
    "temp[0:3]"
   ]
  },
  {
   "cell_type": "code",
   "execution_count": 19,
   "metadata": {},
   "outputs": [],
   "source": [
    "f_p = open('tenta/produtos.csv','w')"
   ]
  },
  {
   "cell_type": "code",
   "execution_count": 20,
   "metadata": {},
   "outputs": [],
   "source": [
    "f_p.write('Tipo de produto extrativo;Tipo de Uso\\n')\n",
    "for item in temp:\n",
    "    f_p.write(item[0] + ';' + item[1] +'\\n')"
   ]
  },
  {
   "cell_type": "code",
   "execution_count": 21,
   "metadata": {},
   "outputs": [],
   "source": [
    "f_p.close()"
   ]
  },
  {
   "cell_type": "markdown",
   "metadata": {},
   "source": [
    "# Juntando CSVs sobre desmatamento"
   ]
  },
  {
   "cell_type": "code",
   "execution_count": 23,
   "metadata": {},
   "outputs": [],
   "source": [
    "df1 = pd.read_csv('dados/desmatamento.csv', sep = ';')"
   ]
  },
  {
   "cell_type": "code",
   "execution_count": 25,
   "metadata": {},
   "outputs": [
    {
     "data": {
      "text/html": [
       "<div>\n",
       "<style scoped>\n",
       "    .dataframe tbody tr th:only-of-type {\n",
       "        vertical-align: middle;\n",
       "    }\n",
       "\n",
       "    .dataframe tbody tr th {\n",
       "        vertical-align: top;\n",
       "    }\n",
       "\n",
       "    .dataframe thead th {\n",
       "        text-align: right;\n",
       "    }\n",
       "</style>\n",
       "<table border=\"1\" class=\"dataframe\">\n",
       "  <thead>\n",
       "    <tr style=\"text-align: right;\">\n",
       "      <th></th>\n",
       "      <th>Ano</th>\n",
       "      <th>Bioma</th>\n",
       "      <th>Categoria</th>\n",
       "      <th>Estado</th>\n",
       "      <th>Numero_de_registros</th>\n",
       "      <th>Periodo</th>\n",
       "      <th>Area_desmatada_hec</th>\n",
       "    </tr>\n",
       "  </thead>\n",
       "  <tbody>\n",
       "    <tr>\n",
       "      <th>0</th>\n",
       "      <td>2012</td>\n",
       "      <td>Amazônia Legal</td>\n",
       "      <td>Desflorestamento</td>\n",
       "      <td>Acre</td>\n",
       "      <td>1</td>\n",
       "      <td>2012</td>\n",
       "      <td>2074194,28</td>\n",
       "    </tr>\n",
       "    <tr>\n",
       "      <th>1</th>\n",
       "      <td>2012</td>\n",
       "      <td>Amazônia Legal</td>\n",
       "      <td>Desflorestamento</td>\n",
       "      <td>Amapá</td>\n",
       "      <td>1</td>\n",
       "      <td>2012</td>\n",
       "      <td>300224,71</td>\n",
       "    </tr>\n",
       "    <tr>\n",
       "      <th>2</th>\n",
       "      <td>2012</td>\n",
       "      <td>Amazônia Legal</td>\n",
       "      <td>Desflorestamento</td>\n",
       "      <td>Amazonas</td>\n",
       "      <td>1</td>\n",
       "      <td>2012</td>\n",
       "      <td>3509103,62</td>\n",
       "    </tr>\n",
       "  </tbody>\n",
       "</table>\n",
       "</div>"
      ],
      "text/plain": [
       "    Ano           Bioma         Categoria    Estado  Numero_de_registros  \\\n",
       "0  2012  Amazônia Legal  Desflorestamento      Acre                    1   \n",
       "1  2012  Amazônia Legal  Desflorestamento     Amapá                    1   \n",
       "2  2012  Amazônia Legal  Desflorestamento  Amazonas                    1   \n",
       "\n",
       "   Periodo Area_desmatada_hec  \n",
       "0     2012         2074194,28  \n",
       "1     2012          300224,71  \n",
       "2     2012         3509103,62  "
      ]
     },
     "execution_count": 25,
     "metadata": {},
     "output_type": "execute_result"
    }
   ],
   "source": [
    "df1.head(3)"
   ]
  },
  {
   "cell_type": "code",
   "execution_count": 27,
   "metadata": {},
   "outputs": [],
   "source": [
    "df2 = pd.read_csv('dados/desmatamento_bioma.csv', sep = ';')"
   ]
  },
  {
   "cell_type": "code",
   "execution_count": 28,
   "metadata": {},
   "outputs": [
    {
     "data": {
      "text/html": [
       "<div>\n",
       "<style scoped>\n",
       "    .dataframe tbody tr th:only-of-type {\n",
       "        vertical-align: middle;\n",
       "    }\n",
       "\n",
       "    .dataframe tbody tr th {\n",
       "        vertical-align: top;\n",
       "    }\n",
       "\n",
       "    .dataframe thead th {\n",
       "        text-align: right;\n",
       "    }\n",
       "</style>\n",
       "<table border=\"1\" class=\"dataframe\">\n",
       "  <thead>\n",
       "    <tr style=\"text-align: right;\">\n",
       "      <th></th>\n",
       "      <th>Bioma</th>\n",
       "      <th>Estado</th>\n",
       "      <th>Numero_de_registros</th>\n",
       "      <th>Periodo</th>\n",
       "      <th>Area_desmatada_hec</th>\n",
       "    </tr>\n",
       "  </thead>\n",
       "  <tbody>\n",
       "    <tr>\n",
       "      <th>0</th>\n",
       "      <td>Caatinga</td>\n",
       "      <td>Alagoas</td>\n",
       "      <td>1</td>\n",
       "      <td>2009</td>\n",
       "      <td>2877.130951</td>\n",
       "    </tr>\n",
       "    <tr>\n",
       "      <th>1</th>\n",
       "      <td>Caatinga</td>\n",
       "      <td>Bahia</td>\n",
       "      <td>1</td>\n",
       "      <td>2009</td>\n",
       "      <td>61872.169510</td>\n",
       "    </tr>\n",
       "    <tr>\n",
       "      <th>2</th>\n",
       "      <td>Caatinga</td>\n",
       "      <td>Ceará</td>\n",
       "      <td>1</td>\n",
       "      <td>2009</td>\n",
       "      <td>59130.915610</td>\n",
       "    </tr>\n",
       "  </tbody>\n",
       "</table>\n",
       "</div>"
      ],
      "text/plain": [
       "      Bioma   Estado  Numero_de_registros  Periodo  Area_desmatada_hec\n",
       "0  Caatinga  Alagoas                    1     2009         2877.130951\n",
       "1  Caatinga    Bahia                    1     2009        61872.169510\n",
       "2  Caatinga    Ceará                    1     2009        59130.915610"
      ]
     },
     "execution_count": 28,
     "metadata": {},
     "output_type": "execute_result"
    }
   ],
   "source": [
    "df2.head(3)"
   ]
  },
  {
   "cell_type": "code",
   "execution_count": 36,
   "metadata": {},
   "outputs": [],
   "source": [
    "df1 = df1.drop(['Periodo', 'Categoria', 'Numero_de_registros'], axis = 1)"
   ]
  },
  {
   "cell_type": "code",
   "execution_count": 38,
   "metadata": {},
   "outputs": [
    {
     "data": {
      "text/html": [
       "<div>\n",
       "<style scoped>\n",
       "    .dataframe tbody tr th:only-of-type {\n",
       "        vertical-align: middle;\n",
       "    }\n",
       "\n",
       "    .dataframe tbody tr th {\n",
       "        vertical-align: top;\n",
       "    }\n",
       "\n",
       "    .dataframe thead th {\n",
       "        text-align: right;\n",
       "    }\n",
       "</style>\n",
       "<table border=\"1\" class=\"dataframe\">\n",
       "  <thead>\n",
       "    <tr style=\"text-align: right;\">\n",
       "      <th></th>\n",
       "      <th>Ano</th>\n",
       "      <th>Bioma</th>\n",
       "      <th>Estado</th>\n",
       "      <th>Area_desmatada_hec</th>\n",
       "    </tr>\n",
       "  </thead>\n",
       "  <tbody>\n",
       "    <tr>\n",
       "      <th>0</th>\n",
       "      <td>2012</td>\n",
       "      <td>Amazônia Legal</td>\n",
       "      <td>Acre</td>\n",
       "      <td>2074194,28</td>\n",
       "    </tr>\n",
       "    <tr>\n",
       "      <th>1</th>\n",
       "      <td>2012</td>\n",
       "      <td>Amazônia Legal</td>\n",
       "      <td>Amapá</td>\n",
       "      <td>300224,71</td>\n",
       "    </tr>\n",
       "    <tr>\n",
       "      <th>2</th>\n",
       "      <td>2012</td>\n",
       "      <td>Amazônia Legal</td>\n",
       "      <td>Amazonas</td>\n",
       "      <td>3509103,62</td>\n",
       "    </tr>\n",
       "  </tbody>\n",
       "</table>\n",
       "</div>"
      ],
      "text/plain": [
       "    Ano           Bioma    Estado Area_desmatada_hec\n",
       "0  2012  Amazônia Legal      Acre         2074194,28\n",
       "1  2012  Amazônia Legal     Amapá          300224,71\n",
       "2  2012  Amazônia Legal  Amazonas         3509103,62"
      ]
     },
     "execution_count": 38,
     "metadata": {},
     "output_type": "execute_result"
    }
   ],
   "source": [
    "df1.head(3)"
   ]
  },
  {
   "cell_type": "code",
   "execution_count": 43,
   "metadata": {},
   "outputs": [],
   "source": [
    "df2 = df2.rename({'Periodo' : 'Ano'}, axis = 'columns')\n",
    "df2 = df2.drop('Numero_de_registros', axis = 1)"
   ]
  },
  {
   "cell_type": "code",
   "execution_count": 45,
   "metadata": {},
   "outputs": [
    {
     "data": {
      "text/html": [
       "<div>\n",
       "<style scoped>\n",
       "    .dataframe tbody tr th:only-of-type {\n",
       "        vertical-align: middle;\n",
       "    }\n",
       "\n",
       "    .dataframe tbody tr th {\n",
       "        vertical-align: top;\n",
       "    }\n",
       "\n",
       "    .dataframe thead th {\n",
       "        text-align: right;\n",
       "    }\n",
       "</style>\n",
       "<table border=\"1\" class=\"dataframe\">\n",
       "  <thead>\n",
       "    <tr style=\"text-align: right;\">\n",
       "      <th></th>\n",
       "      <th>Bioma</th>\n",
       "      <th>Estado</th>\n",
       "      <th>Ano</th>\n",
       "      <th>Area_desmatada_hec</th>\n",
       "    </tr>\n",
       "  </thead>\n",
       "  <tbody>\n",
       "    <tr>\n",
       "      <th>0</th>\n",
       "      <td>Caatinga</td>\n",
       "      <td>Alagoas</td>\n",
       "      <td>2009</td>\n",
       "      <td>2877.130951</td>\n",
       "    </tr>\n",
       "    <tr>\n",
       "      <th>1</th>\n",
       "      <td>Caatinga</td>\n",
       "      <td>Bahia</td>\n",
       "      <td>2009</td>\n",
       "      <td>61872.169510</td>\n",
       "    </tr>\n",
       "    <tr>\n",
       "      <th>2</th>\n",
       "      <td>Caatinga</td>\n",
       "      <td>Ceará</td>\n",
       "      <td>2009</td>\n",
       "      <td>59130.915610</td>\n",
       "    </tr>\n",
       "  </tbody>\n",
       "</table>\n",
       "</div>"
      ],
      "text/plain": [
       "      Bioma   Estado   Ano  Area_desmatada_hec\n",
       "0  Caatinga  Alagoas  2009         2877.130951\n",
       "1  Caatinga    Bahia  2009        61872.169510\n",
       "2  Caatinga    Ceará  2009        59130.915610"
      ]
     },
     "execution_count": 45,
     "metadata": {},
     "output_type": "execute_result"
    }
   ],
   "source": [
    "df2.head(3)"
   ]
  },
  {
   "cell_type": "code",
   "execution_count": 46,
   "metadata": {},
   "outputs": [],
   "source": [
    "df2= df2[['Ano', 'Bioma', 'Estado', 'Area_desmatada_hec']]"
   ]
  },
  {
   "cell_type": "code",
   "execution_count": 47,
   "metadata": {},
   "outputs": [
    {
     "data": {
      "text/html": [
       "<div>\n",
       "<style scoped>\n",
       "    .dataframe tbody tr th:only-of-type {\n",
       "        vertical-align: middle;\n",
       "    }\n",
       "\n",
       "    .dataframe tbody tr th {\n",
       "        vertical-align: top;\n",
       "    }\n",
       "\n",
       "    .dataframe thead th {\n",
       "        text-align: right;\n",
       "    }\n",
       "</style>\n",
       "<table border=\"1\" class=\"dataframe\">\n",
       "  <thead>\n",
       "    <tr style=\"text-align: right;\">\n",
       "      <th></th>\n",
       "      <th>Ano</th>\n",
       "      <th>Bioma</th>\n",
       "      <th>Estado</th>\n",
       "      <th>Area_desmatada_hec</th>\n",
       "    </tr>\n",
       "  </thead>\n",
       "  <tbody>\n",
       "    <tr>\n",
       "      <th>0</th>\n",
       "      <td>2009</td>\n",
       "      <td>Caatinga</td>\n",
       "      <td>Alagoas</td>\n",
       "      <td>2877.130951</td>\n",
       "    </tr>\n",
       "    <tr>\n",
       "      <th>1</th>\n",
       "      <td>2009</td>\n",
       "      <td>Caatinga</td>\n",
       "      <td>Bahia</td>\n",
       "      <td>61872.169510</td>\n",
       "    </tr>\n",
       "    <tr>\n",
       "      <th>2</th>\n",
       "      <td>2009</td>\n",
       "      <td>Caatinga</td>\n",
       "      <td>Ceará</td>\n",
       "      <td>59130.915610</td>\n",
       "    </tr>\n",
       "  </tbody>\n",
       "</table>\n",
       "</div>"
      ],
      "text/plain": [
       "    Ano     Bioma   Estado  Area_desmatada_hec\n",
       "0  2009  Caatinga  Alagoas         2877.130951\n",
       "1  2009  Caatinga    Bahia        61872.169510\n",
       "2  2009  Caatinga    Ceará        59130.915610"
      ]
     },
     "execution_count": 47,
     "metadata": {},
     "output_type": "execute_result"
    }
   ],
   "source": [
    "df2.head(3)"
   ]
  },
  {
   "cell_type": "code",
   "execution_count": 51,
   "metadata": {},
   "outputs": [],
   "source": [
    "df1 = df1.append(df2, ignore_index = True)"
   ]
  },
  {
   "cell_type": "code",
   "execution_count": 53,
   "metadata": {},
   "outputs": [
    {
     "data": {
      "text/html": [
       "<div>\n",
       "<style scoped>\n",
       "    .dataframe tbody tr th:only-of-type {\n",
       "        vertical-align: middle;\n",
       "    }\n",
       "\n",
       "    .dataframe tbody tr th {\n",
       "        vertical-align: top;\n",
       "    }\n",
       "\n",
       "    .dataframe thead th {\n",
       "        text-align: right;\n",
       "    }\n",
       "</style>\n",
       "<table border=\"1\" class=\"dataframe\">\n",
       "  <thead>\n",
       "    <tr style=\"text-align: right;\">\n",
       "      <th></th>\n",
       "      <th>Ano</th>\n",
       "      <th>Bioma</th>\n",
       "      <th>Estado</th>\n",
       "      <th>Area_desmatada_hec</th>\n",
       "    </tr>\n",
       "  </thead>\n",
       "  <tbody>\n",
       "    <tr>\n",
       "      <th>0</th>\n",
       "      <td>2012</td>\n",
       "      <td>Amazônia Legal</td>\n",
       "      <td>Acre</td>\n",
       "      <td>2074194,28</td>\n",
       "    </tr>\n",
       "    <tr>\n",
       "      <th>1</th>\n",
       "      <td>2012</td>\n",
       "      <td>Amazônia Legal</td>\n",
       "      <td>Amapá</td>\n",
       "      <td>300224,71</td>\n",
       "    </tr>\n",
       "    <tr>\n",
       "      <th>2</th>\n",
       "      <td>2012</td>\n",
       "      <td>Amazônia Legal</td>\n",
       "      <td>Amazonas</td>\n",
       "      <td>3509103,62</td>\n",
       "    </tr>\n",
       "  </tbody>\n",
       "</table>\n",
       "</div>"
      ],
      "text/plain": [
       "    Ano           Bioma    Estado Area_desmatada_hec\n",
       "0  2012  Amazônia Legal      Acre         2074194,28\n",
       "1  2012  Amazônia Legal     Amapá          300224,71\n",
       "2  2012  Amazônia Legal  Amazonas         3509103,62"
      ]
     },
     "execution_count": 53,
     "metadata": {},
     "output_type": "execute_result"
    }
   ],
   "source": [
    "df1.head(3)"
   ]
  },
  {
   "cell_type": "code",
   "execution_count": 54,
   "metadata": {},
   "outputs": [
    {
     "data": {
      "text/html": [
       "<div>\n",
       "<style scoped>\n",
       "    .dataframe tbody tr th:only-of-type {\n",
       "        vertical-align: middle;\n",
       "    }\n",
       "\n",
       "    .dataframe tbody tr th {\n",
       "        vertical-align: top;\n",
       "    }\n",
       "\n",
       "    .dataframe thead th {\n",
       "        text-align: right;\n",
       "    }\n",
       "</style>\n",
       "<table border=\"1\" class=\"dataframe\">\n",
       "  <thead>\n",
       "    <tr style=\"text-align: right;\">\n",
       "      <th></th>\n",
       "      <th>Ano</th>\n",
       "      <th>Bioma</th>\n",
       "      <th>Estado</th>\n",
       "      <th>Area_desmatada_hec</th>\n",
       "    </tr>\n",
       "  </thead>\n",
       "  <tbody>\n",
       "    <tr>\n",
       "      <th>98</th>\n",
       "      <td>2009</td>\n",
       "      <td>Pampa</td>\n",
       "      <td>Rio Grande do Sul</td>\n",
       "      <td>4593.25</td>\n",
       "    </tr>\n",
       "    <tr>\n",
       "      <th>99</th>\n",
       "      <td>2009</td>\n",
       "      <td>Pantanal</td>\n",
       "      <td>Mato Grosso</td>\n",
       "      <td>8921.56</td>\n",
       "    </tr>\n",
       "    <tr>\n",
       "      <th>100</th>\n",
       "      <td>2009</td>\n",
       "      <td>Pantanal</td>\n",
       "      <td>Mato Grosso do Sul</td>\n",
       "      <td>9925.75</td>\n",
       "    </tr>\n",
       "  </tbody>\n",
       "</table>\n",
       "</div>"
      ],
      "text/plain": [
       "      Ano     Bioma              Estado Area_desmatada_hec\n",
       "98   2009     Pampa   Rio Grande do Sul            4593.25\n",
       "99   2009  Pantanal         Mato Grosso            8921.56\n",
       "100  2009  Pantanal  Mato Grosso do Sul            9925.75"
      ]
     },
     "execution_count": 54,
     "metadata": {},
     "output_type": "execute_result"
    }
   ],
   "source": [
    "df1.tail(3)"
   ]
  },
  {
   "cell_type": "code",
   "execution_count": 56,
   "metadata": {},
   "outputs": [],
   "source": [
    "data = pd.read_csv('tenta/data.csv', sep = ';')"
   ]
  },
  {
   "cell_type": "code",
   "execution_count": 4,
   "metadata": {},
   "outputs": [
    {
     "data": {
      "text/html": [
       "<div>\n",
       "<style scoped>\n",
       "    .dataframe tbody tr th:only-of-type {\n",
       "        vertical-align: middle;\n",
       "    }\n",
       "\n",
       "    .dataframe tbody tr th {\n",
       "        vertical-align: top;\n",
       "    }\n",
       "\n",
       "    .dataframe thead th {\n",
       "        text-align: right;\n",
       "    }\n",
       "</style>\n",
       "<table border=\"1\" class=\"dataframe\">\n",
       "  <thead>\n",
       "    <tr style=\"text-align: right;\">\n",
       "      <th></th>\n",
       "      <th>ID_data</th>\n",
       "      <th>Ano</th>\n",
       "      <th>Mês</th>\n",
       "    </tr>\n",
       "  </thead>\n",
       "  <tbody>\n",
       "    <tr>\n",
       "      <th>0</th>\n",
       "      <td>0</td>\n",
       "      <td>1994</td>\n",
       "      <td>Janeiro</td>\n",
       "    </tr>\n",
       "    <tr>\n",
       "      <th>1</th>\n",
       "      <td>1</td>\n",
       "      <td>1994</td>\n",
       "      <td>Fevereiro</td>\n",
       "    </tr>\n",
       "    <tr>\n",
       "      <th>2</th>\n",
       "      <td>2</td>\n",
       "      <td>1994</td>\n",
       "      <td>Março</td>\n",
       "    </tr>\n",
       "    <tr>\n",
       "      <th>3</th>\n",
       "      <td>3</td>\n",
       "      <td>1994</td>\n",
       "      <td>Abril</td>\n",
       "    </tr>\n",
       "    <tr>\n",
       "      <th>4</th>\n",
       "      <td>4</td>\n",
       "      <td>1994</td>\n",
       "      <td>Maio</td>\n",
       "    </tr>\n",
       "    <tr>\n",
       "      <th>5</th>\n",
       "      <td>5</td>\n",
       "      <td>1994</td>\n",
       "      <td>Junho</td>\n",
       "    </tr>\n",
       "    <tr>\n",
       "      <th>6</th>\n",
       "      <td>6</td>\n",
       "      <td>1994</td>\n",
       "      <td>Julho</td>\n",
       "    </tr>\n",
       "    <tr>\n",
       "      <th>7</th>\n",
       "      <td>7</td>\n",
       "      <td>1994</td>\n",
       "      <td>Agosto</td>\n",
       "    </tr>\n",
       "    <tr>\n",
       "      <th>8</th>\n",
       "      <td>8</td>\n",
       "      <td>1994</td>\n",
       "      <td>Setembro</td>\n",
       "    </tr>\n",
       "    <tr>\n",
       "      <th>9</th>\n",
       "      <td>9</td>\n",
       "      <td>1994</td>\n",
       "      <td>Outubro</td>\n",
       "    </tr>\n",
       "    <tr>\n",
       "      <th>10</th>\n",
       "      <td>10</td>\n",
       "      <td>1994</td>\n",
       "      <td>Novembro</td>\n",
       "    </tr>\n",
       "    <tr>\n",
       "      <th>11</th>\n",
       "      <td>11</td>\n",
       "      <td>1994</td>\n",
       "      <td>Dezembro</td>\n",
       "    </tr>\n",
       "    <tr>\n",
       "      <th>12</th>\n",
       "      <td>12</td>\n",
       "      <td>1994</td>\n",
       "      <td>Inexistente</td>\n",
       "    </tr>\n",
       "  </tbody>\n",
       "</table>\n",
       "</div>"
      ],
      "text/plain": [
       "    ID_data   Ano          Mês\n",
       "0         0  1994      Janeiro\n",
       "1         1  1994    Fevereiro\n",
       "2         2  1994        Março\n",
       "3         3  1994        Abril\n",
       "4         4  1994         Maio\n",
       "5         5  1994        Junho\n",
       "6         6  1994        Julho\n",
       "7         7  1994       Agosto\n",
       "8         8  1994     Setembro\n",
       "9         9  1994      Outubro\n",
       "10       10  1994     Novembro\n",
       "11       11  1994     Dezembro\n",
       "12       12  1994  Inexistente"
      ]
     },
     "execution_count": 4,
     "metadata": {},
     "output_type": "execute_result"
    }
   ],
   "source": [
    "data.head(13)"
   ]
  },
  {
   "cell_type": "code",
   "execution_count": 56,
   "metadata": {},
   "outputs": [],
   "source": [
    "#tive que colocar manualmente o nome das colunas\n",
    "np.savetxt('tenta/desmatamento.csv', [p for p in zip(df1['Ano'], df1['Bioma'], df1['Estado'], df1['Area_desmatada_hec'])], delimiter=';', fmt='%s')"
   ]
  },
  {
   "cell_type": "code",
   "execution_count": 5,
   "metadata": {},
   "outputs": [],
   "source": [
    "df1 = pd.read_csv('tenta/desmatamento.csv', sep = ';')"
   ]
  },
  {
   "cell_type": "code",
   "execution_count": 6,
   "metadata": {},
   "outputs": [
    {
     "data": {
      "text/html": [
       "<div>\n",
       "<style scoped>\n",
       "    .dataframe tbody tr th:only-of-type {\n",
       "        vertical-align: middle;\n",
       "    }\n",
       "\n",
       "    .dataframe tbody tr th {\n",
       "        vertical-align: top;\n",
       "    }\n",
       "\n",
       "    .dataframe thead th {\n",
       "        text-align: right;\n",
       "    }\n",
       "</style>\n",
       "<table border=\"1\" class=\"dataframe\">\n",
       "  <thead>\n",
       "    <tr style=\"text-align: right;\">\n",
       "      <th></th>\n",
       "      <th>Ano</th>\n",
       "      <th>Bioma</th>\n",
       "      <th>Estado</th>\n",
       "      <th>Area_desmatada_hec</th>\n",
       "    </tr>\n",
       "  </thead>\n",
       "  <tbody>\n",
       "    <tr>\n",
       "      <th>0</th>\n",
       "      <td>2012</td>\n",
       "      <td>Amazônia Legal</td>\n",
       "      <td>Acre</td>\n",
       "      <td>2074194,28</td>\n",
       "    </tr>\n",
       "    <tr>\n",
       "      <th>1</th>\n",
       "      <td>2012</td>\n",
       "      <td>Amazônia Legal</td>\n",
       "      <td>Amapá</td>\n",
       "      <td>300224,71</td>\n",
       "    </tr>\n",
       "    <tr>\n",
       "      <th>2</th>\n",
       "      <td>2012</td>\n",
       "      <td>Amazônia Legal</td>\n",
       "      <td>Amazonas</td>\n",
       "      <td>3509103,62</td>\n",
       "    </tr>\n",
       "  </tbody>\n",
       "</table>\n",
       "</div>"
      ],
      "text/plain": [
       "    Ano           Bioma    Estado Area_desmatada_hec\n",
       "0  2012  Amazônia Legal      Acre         2074194,28\n",
       "1  2012  Amazônia Legal     Amapá          300224,71\n",
       "2  2012  Amazônia Legal  Amazonas         3509103,62"
      ]
     },
     "execution_count": 6,
     "metadata": {},
     "output_type": "execute_result"
    }
   ],
   "source": [
    "df1.head(3)"
   ]
  },
  {
   "cell_type": "code",
   "execution_count": 32,
   "metadata": {},
   "outputs": [],
   "source": [
    "ID_data_arr = []\n",
    "data_inex = data.where(data['Mês'] == 'Inexistente').dropna(how = 'all')\n",
    "#data_inex\n",
    "for i in range(len(df1)):\n",
    "    ano = df1['Ano'].iloc[i]\n",
    "    id_data = int(data_inex['ID_data'].where(data_inex['Ano'] == ano).dropna(how = 'all'))\n",
    "    ID_data_arr.append(id_data)"
   ]
  },
  {
   "cell_type": "code",
   "execution_count": 36,
   "metadata": {},
   "outputs": [],
   "source": [
    "df1['ID_data'] = ID_data_arr"
   ]
  },
  {
   "cell_type": "code",
   "execution_count": 42,
   "metadata": {},
   "outputs": [],
   "source": [
    "df1 = df1.drop('Ano', axis = 1)\n",
    "df1 = df1[['ID_data', 'Bioma', 'Estado', 'Area_desmatada_hec']]"
   ]
  },
  {
   "cell_type": "code",
   "execution_count": 43,
   "metadata": {},
   "outputs": [
    {
     "data": {
      "text/html": [
       "<div>\n",
       "<style scoped>\n",
       "    .dataframe tbody tr th:only-of-type {\n",
       "        vertical-align: middle;\n",
       "    }\n",
       "\n",
       "    .dataframe tbody tr th {\n",
       "        vertical-align: top;\n",
       "    }\n",
       "\n",
       "    .dataframe thead th {\n",
       "        text-align: right;\n",
       "    }\n",
       "</style>\n",
       "<table border=\"1\" class=\"dataframe\">\n",
       "  <thead>\n",
       "    <tr style=\"text-align: right;\">\n",
       "      <th></th>\n",
       "      <th>ID_data</th>\n",
       "      <th>Bioma</th>\n",
       "      <th>Estado</th>\n",
       "      <th>Area_desmatada_hec</th>\n",
       "    </tr>\n",
       "  </thead>\n",
       "  <tbody>\n",
       "    <tr>\n",
       "      <th>0</th>\n",
       "      <td>246</td>\n",
       "      <td>Amazônia Legal</td>\n",
       "      <td>Acre</td>\n",
       "      <td>2074194,28</td>\n",
       "    </tr>\n",
       "    <tr>\n",
       "      <th>1</th>\n",
       "      <td>246</td>\n",
       "      <td>Amazônia Legal</td>\n",
       "      <td>Amapá</td>\n",
       "      <td>300224,71</td>\n",
       "    </tr>\n",
       "    <tr>\n",
       "      <th>2</th>\n",
       "      <td>246</td>\n",
       "      <td>Amazônia Legal</td>\n",
       "      <td>Amazonas</td>\n",
       "      <td>3509103,62</td>\n",
       "    </tr>\n",
       "  </tbody>\n",
       "</table>\n",
       "</div>"
      ],
      "text/plain": [
       "   ID_data           Bioma    Estado Area_desmatada_hec\n",
       "0      246  Amazônia Legal      Acre         2074194,28\n",
       "1      246  Amazônia Legal     Amapá          300224,71\n",
       "2      246  Amazônia Legal  Amazonas         3509103,62"
      ]
     },
     "execution_count": 43,
     "metadata": {},
     "output_type": "execute_result"
    }
   ],
   "source": [
    "df1.head(3)"
   ]
  },
  {
   "cell_type": "code",
   "execution_count": 51,
   "metadata": {},
   "outputs": [],
   "source": [
    "f_d = open('upa/desmatamento.csv', 'w')"
   ]
  },
  {
   "cell_type": "code",
   "execution_count": 52,
   "metadata": {},
   "outputs": [],
   "source": [
    "f_d.write('ID_data;Bioma;Estado;Area_desmatada_hec\\n')\n",
    "for row in zip(df1['ID_data'], df1['Bioma'], df1['Estado'], df1['Area_desmatada_hec']):\n",
    "    linha = ''\n",
    "    for i in range(len(row)):\n",
    "        if i == len(row)-1:\n",
    "             linha += str(row[i]) +'\\n'\n",
    "        else:\n",
    "            linha += str(row[i]) +';'  \n",
    "    f_d.write(linha)"
   ]
  },
  {
   "cell_type": "code",
   "execution_count": 53,
   "metadata": {},
   "outputs": [],
   "source": [
    "f_d.close()"
   ]
  },
  {
   "cell_type": "markdown",
   "metadata": {},
   "source": [
    "# Adequando o florestas_plantadas.csv"
   ]
  },
  {
   "cell_type": "code",
   "execution_count": 10,
   "metadata": {},
   "outputs": [],
   "source": [
    "flo = pd.read_csv('DataSets/florestas_plantadas.csv', sep = ';' , encoding = 'latin-1')"
   ]
  },
  {
   "cell_type": "code",
   "execution_count": 41,
   "metadata": {},
   "outputs": [
    {
     "data": {
      "text/html": [
       "<div>\n",
       "<style scoped>\n",
       "    .dataframe tbody tr th:only-of-type {\n",
       "        vertical-align: middle;\n",
       "    }\n",
       "\n",
       "    .dataframe tbody tr th {\n",
       "        vertical-align: top;\n",
       "    }\n",
       "\n",
       "    .dataframe thead th {\n",
       "        text-align: right;\n",
       "    }\n",
       "</style>\n",
       "<table border=\"1\" class=\"dataframe\">\n",
       "  <thead>\n",
       "    <tr style=\"text-align: right;\">\n",
       "      <th></th>\n",
       "      <th>Ano</th>\n",
       "      <th>Cultura</th>\n",
       "      <th>Especie</th>\n",
       "      <th>Estado</th>\n",
       "      <th>Area_hec</th>\n",
       "    </tr>\n",
       "  </thead>\n",
       "  <tbody>\n",
       "    <tr>\n",
       "      <th>0</th>\n",
       "      <td>2006</td>\n",
       "      <td>Eucalipto</td>\n",
       "      <td>Eucalipto</td>\n",
       "      <td>Minas Gerais</td>\n",
       "      <td>1181429.0</td>\n",
       "    </tr>\n",
       "    <tr>\n",
       "      <th>1</th>\n",
       "      <td>2006</td>\n",
       "      <td>Eucalipto</td>\n",
       "      <td>Eucalipto</td>\n",
       "      <td>São Paulo</td>\n",
       "      <td>915841.0</td>\n",
       "    </tr>\n",
       "    <tr>\n",
       "      <th>2</th>\n",
       "      <td>2006</td>\n",
       "      <td>Eucalipto</td>\n",
       "      <td>Eucalipto</td>\n",
       "      <td>Mato Grosso do Sul</td>\n",
       "      <td>119319.0</td>\n",
       "    </tr>\n",
       "    <tr>\n",
       "      <th>3</th>\n",
       "      <td>2006</td>\n",
       "      <td>Eucalipto</td>\n",
       "      <td>Eucalipto</td>\n",
       "      <td>Bahia</td>\n",
       "      <td>540172.0</td>\n",
       "    </tr>\n",
       "    <tr>\n",
       "      <th>4</th>\n",
       "      <td>2006</td>\n",
       "      <td>Eucalipto</td>\n",
       "      <td>Eucalipto</td>\n",
       "      <td>Rio Grande do Sul</td>\n",
       "      <td>184245.0</td>\n",
       "    </tr>\n",
       "    <tr>\n",
       "      <th>5</th>\n",
       "      <td>2006</td>\n",
       "      <td>Eucalipto</td>\n",
       "      <td>Eucalipto</td>\n",
       "      <td>Espírito Santo</td>\n",
       "      <td>207800.0</td>\n",
       "    </tr>\n",
       "    <tr>\n",
       "      <th>6</th>\n",
       "      <td>2006</td>\n",
       "      <td>Eucalipto</td>\n",
       "      <td>Eucalipto</td>\n",
       "      <td>Maranhão</td>\n",
       "      <td>93285.0</td>\n",
       "    </tr>\n",
       "    <tr>\n",
       "      <th>7</th>\n",
       "      <td>2006</td>\n",
       "      <td>Eucalipto</td>\n",
       "      <td>Eucalipto</td>\n",
       "      <td>Paraná</td>\n",
       "      <td>121908.0</td>\n",
       "    </tr>\n",
       "    <tr>\n",
       "      <th>8</th>\n",
       "      <td>2006</td>\n",
       "      <td>Eucalipto</td>\n",
       "      <td>Eucalipto</td>\n",
       "      <td>Mato Grosso</td>\n",
       "      <td>113770.0</td>\n",
       "    </tr>\n",
       "    <tr>\n",
       "      <th>9</th>\n",
       "      <td>2006</td>\n",
       "      <td>Eucalipto</td>\n",
       "      <td>Eucalipto</td>\n",
       "      <td>Pará</td>\n",
       "      <td>115806.0</td>\n",
       "    </tr>\n",
       "  </tbody>\n",
       "</table>\n",
       "</div>"
      ],
      "text/plain": [
       "    Ano    Cultura    Especie              Estado   Area_hec\n",
       "0  2006  Eucalipto  Eucalipto        Minas Gerais  1181429.0\n",
       "1  2006  Eucalipto  Eucalipto           São Paulo   915841.0\n",
       "2  2006  Eucalipto  Eucalipto  Mato Grosso do Sul   119319.0\n",
       "3  2006  Eucalipto  Eucalipto               Bahia   540172.0\n",
       "4  2006  Eucalipto  Eucalipto   Rio Grande do Sul   184245.0\n",
       "5  2006  Eucalipto  Eucalipto      Espírito Santo   207800.0\n",
       "6  2006  Eucalipto  Eucalipto            Maranhão    93285.0\n",
       "7  2006  Eucalipto  Eucalipto              Paraná   121908.0\n",
       "8  2006  Eucalipto  Eucalipto         Mato Grosso   113770.0\n",
       "9  2006  Eucalipto  Eucalipto                Pará   115806.0"
      ]
     },
     "execution_count": 41,
     "metadata": {},
     "output_type": "execute_result"
    }
   ],
   "source": [
    "flo.head(10)"
   ]
  },
  {
   "cell_type": "code",
   "execution_count": 39,
   "metadata": {},
   "outputs": [
    {
     "data": {
      "text/plain": [
       "[('Acre', 'AC'), ('Alagoas', 'AL'), ('Amapá', 'AP')]"
      ]
     },
     "execution_count": 39,
     "metadata": {},
     "output_type": "execute_result"
    }
   ],
   "source": [
    "estado_uf = list(zip(estados, UFs))\n",
    "estado_uf[:3]"
   ]
  },
  {
   "cell_type": "code",
   "execution_count": 42,
   "metadata": {},
   "outputs": [],
   "source": [
    "UF = []\n",
    "for i in range(len(flo)):\n",
    "    estado = str(flo['Estado'].iloc[i])\n",
    "    for dupla in estado_uf:\n",
    "        if dupla[0] == estado:\n",
    "            uf = str(dupla[1])\n",
    "    UF.append(uf)"
   ]
  },
  {
   "cell_type": "code",
   "execution_count": 44,
   "metadata": {},
   "outputs": [],
   "source": [
    "flo['UF'] = UF"
   ]
  },
  {
   "cell_type": "code",
   "execution_count": 46,
   "metadata": {},
   "outputs": [
    {
     "data": {
      "text/html": [
       "<div>\n",
       "<style scoped>\n",
       "    .dataframe tbody tr th:only-of-type {\n",
       "        vertical-align: middle;\n",
       "    }\n",
       "\n",
       "    .dataframe tbody tr th {\n",
       "        vertical-align: top;\n",
       "    }\n",
       "\n",
       "    .dataframe thead th {\n",
       "        text-align: right;\n",
       "    }\n",
       "</style>\n",
       "<table border=\"1\" class=\"dataframe\">\n",
       "  <thead>\n",
       "    <tr style=\"text-align: right;\">\n",
       "      <th></th>\n",
       "      <th>Ano</th>\n",
       "      <th>Cultura</th>\n",
       "      <th>Especie</th>\n",
       "      <th>Estado</th>\n",
       "      <th>Area_hec</th>\n",
       "      <th>UF</th>\n",
       "    </tr>\n",
       "  </thead>\n",
       "  <tbody>\n",
       "    <tr>\n",
       "      <th>0</th>\n",
       "      <td>2006</td>\n",
       "      <td>Eucalipto</td>\n",
       "      <td>Eucalipto</td>\n",
       "      <td>Minas Gerais</td>\n",
       "      <td>1181429.0</td>\n",
       "      <td>MG</td>\n",
       "    </tr>\n",
       "    <tr>\n",
       "      <th>1</th>\n",
       "      <td>2006</td>\n",
       "      <td>Eucalipto</td>\n",
       "      <td>Eucalipto</td>\n",
       "      <td>São Paulo</td>\n",
       "      <td>915841.0</td>\n",
       "      <td>SP</td>\n",
       "    </tr>\n",
       "    <tr>\n",
       "      <th>2</th>\n",
       "      <td>2006</td>\n",
       "      <td>Eucalipto</td>\n",
       "      <td>Eucalipto</td>\n",
       "      <td>Mato Grosso do Sul</td>\n",
       "      <td>119319.0</td>\n",
       "      <td>MS</td>\n",
       "    </tr>\n",
       "  </tbody>\n",
       "</table>\n",
       "</div>"
      ],
      "text/plain": [
       "    Ano    Cultura    Especie              Estado   Area_hec  UF\n",
       "0  2006  Eucalipto  Eucalipto        Minas Gerais  1181429.0  MG\n",
       "1  2006  Eucalipto  Eucalipto           São Paulo   915841.0  SP\n",
       "2  2006  Eucalipto  Eucalipto  Mato Grosso do Sul   119319.0  MS"
      ]
     },
     "execution_count": 46,
     "metadata": {},
     "output_type": "execute_result"
    }
   ],
   "source": [
    "flo.head(3)"
   ]
  },
  {
   "cell_type": "code",
   "execution_count": 53,
   "metadata": {},
   "outputs": [],
   "source": [
    "flo.drop('Estado', axis = 1)\n",
    "flo = flo[['Ano', 'UF', 'Especie', 'Area_hec']]\n",
    "flo = flo.rename(columns = {'Area_hec': 'Area'})"
   ]
  },
  {
   "cell_type": "code",
   "execution_count": 54,
   "metadata": {},
   "outputs": [
    {
     "data": {
      "text/html": [
       "<div>\n",
       "<style scoped>\n",
       "    .dataframe tbody tr th:only-of-type {\n",
       "        vertical-align: middle;\n",
       "    }\n",
       "\n",
       "    .dataframe tbody tr th {\n",
       "        vertical-align: top;\n",
       "    }\n",
       "\n",
       "    .dataframe thead th {\n",
       "        text-align: right;\n",
       "    }\n",
       "</style>\n",
       "<table border=\"1\" class=\"dataframe\">\n",
       "  <thead>\n",
       "    <tr style=\"text-align: right;\">\n",
       "      <th></th>\n",
       "      <th>Ano</th>\n",
       "      <th>UF</th>\n",
       "      <th>Especie</th>\n",
       "      <th>Area</th>\n",
       "    </tr>\n",
       "  </thead>\n",
       "  <tbody>\n",
       "    <tr>\n",
       "      <th>0</th>\n",
       "      <td>2006</td>\n",
       "      <td>MG</td>\n",
       "      <td>Eucalipto</td>\n",
       "      <td>1181429.0</td>\n",
       "    </tr>\n",
       "    <tr>\n",
       "      <th>1</th>\n",
       "      <td>2006</td>\n",
       "      <td>SP</td>\n",
       "      <td>Eucalipto</td>\n",
       "      <td>915841.0</td>\n",
       "    </tr>\n",
       "    <tr>\n",
       "      <th>2</th>\n",
       "      <td>2006</td>\n",
       "      <td>MS</td>\n",
       "      <td>Eucalipto</td>\n",
       "      <td>119319.0</td>\n",
       "    </tr>\n",
       "  </tbody>\n",
       "</table>\n",
       "</div>"
      ],
      "text/plain": [
       "    Ano  UF    Especie       Area\n",
       "0  2006  MG  Eucalipto  1181429.0\n",
       "1  2006  SP  Eucalipto   915841.0\n",
       "2  2006  MS  Eucalipto   119319.0"
      ]
     },
     "execution_count": 54,
     "metadata": {},
     "output_type": "execute_result"
    }
   ],
   "source": [
    "flo.head(3)"
   ]
  },
  {
   "cell_type": "code",
   "execution_count": 60,
   "metadata": {},
   "outputs": [],
   "source": [
    "ID_data_arr = []\n",
    "data_inex = data.where(data['Mês'] == 'Inexistente').dropna(how = 'all')\n",
    "#data_inex\n",
    "for i in range(len(flo)):\n",
    "    ano = flo['Ano'].iloc[i]\n",
    "    id_data = int(data_inex['ID_data'].where(data_inex['Ano'] == ano).dropna(how = 'all'))\n",
    "    ID_data_arr.append(id_data)"
   ]
  },
  {
   "cell_type": "code",
   "execution_count": 61,
   "metadata": {},
   "outputs": [],
   "source": [
    "flo['ID_data'] = ID_data_arr"
   ]
  },
  {
   "cell_type": "code",
   "execution_count": 62,
   "metadata": {},
   "outputs": [],
   "source": [
    "flo = flo.drop('Ano', axis = 1)\n",
    "flo = flo[['ID_data', 'UF', 'Especie', 'Area']]"
   ]
  },
  {
   "cell_type": "code",
   "execution_count": 69,
   "metadata": {},
   "outputs": [
    {
     "data": {
      "text/html": [
       "<div>\n",
       "<style scoped>\n",
       "    .dataframe tbody tr th:only-of-type {\n",
       "        vertical-align: middle;\n",
       "    }\n",
       "\n",
       "    .dataframe tbody tr th {\n",
       "        vertical-align: top;\n",
       "    }\n",
       "\n",
       "    .dataframe thead th {\n",
       "        text-align: right;\n",
       "    }\n",
       "</style>\n",
       "<table border=\"1\" class=\"dataframe\">\n",
       "  <thead>\n",
       "    <tr style=\"text-align: right;\">\n",
       "      <th></th>\n",
       "      <th>ID_data</th>\n",
       "      <th>UF</th>\n",
       "      <th>Especie</th>\n",
       "      <th>Area</th>\n",
       "    </tr>\n",
       "  </thead>\n",
       "  <tbody>\n",
       "    <tr>\n",
       "      <th>0</th>\n",
       "      <td>168</td>\n",
       "      <td>MG</td>\n",
       "      <td>Eucalipto</td>\n",
       "      <td>1181429.0</td>\n",
       "    </tr>\n",
       "    <tr>\n",
       "      <th>1</th>\n",
       "      <td>168</td>\n",
       "      <td>SP</td>\n",
       "      <td>Eucalipto</td>\n",
       "      <td>915841.0</td>\n",
       "    </tr>\n",
       "    <tr>\n",
       "      <th>2</th>\n",
       "      <td>168</td>\n",
       "      <td>MS</td>\n",
       "      <td>Eucalipto</td>\n",
       "      <td>119319.0</td>\n",
       "    </tr>\n",
       "  </tbody>\n",
       "</table>\n",
       "</div>"
      ],
      "text/plain": [
       "   ID_data  UF    Especie       Area\n",
       "0      168  MG  Eucalipto  1181429.0\n",
       "1      168  SP  Eucalipto   915841.0\n",
       "2      168  MS  Eucalipto   119319.0"
      ]
     },
     "execution_count": 69,
     "metadata": {},
     "output_type": "execute_result"
    }
   ],
   "source": [
    "flo.head(3)"
   ]
  },
  {
   "cell_type": "code",
   "execution_count": 71,
   "metadata": {},
   "outputs": [],
   "source": [
    "file_flo = open('tenta/florestas_plantadas.csv', 'w')"
   ]
  },
  {
   "cell_type": "code",
   "execution_count": 72,
   "metadata": {},
   "outputs": [],
   "source": [
    "file_flo.write('ID_data;UF;Especie;Area\\n')\n",
    "for row in zip(flo['ID_data'], flo['UF'], flo['Especie'], flo['Area']):\n",
    "    linha = ''\n",
    "    for i in range(len(row)):\n",
    "        if i == len(row)-1:\n",
    "             linha += str(row[i]) +'\\n'\n",
    "        else:\n",
    "            linha += str(row[i]) +';'  \n",
    "    file_flo.write(linha)"
   ]
  },
  {
   "cell_type": "code",
   "execution_count": 73,
   "metadata": {},
   "outputs": [],
   "source": [
    "file_flo.close()"
   ]
  },
  {
   "cell_type": "markdown",
   "metadata": {},
   "source": [
    "# Biomas"
   ]
  },
  {
   "cell_type": "code",
   "execution_count": 5,
   "metadata": {},
   "outputs": [],
   "source": [
    "f_bioma = pd.read_csv('DataSets/ucs-por-bioma-2018.csv', sep = ';', encoding = 'latin-1')"
   ]
  },
  {
   "cell_type": "code",
   "execution_count": 32,
   "metadata": {},
   "outputs": [],
   "source": [
    "f_bioma = f_bioma.dropna(how = 'all')\n",
    "#f_bioma = f_bioma.drop(6)\n",
    "f_bioma = f_bioma.drop(7)"
   ]
  },
  {
   "cell_type": "code",
   "execution_count": 33,
   "metadata": {},
   "outputs": [
    {
     "data": {
      "text/html": [
       "<div>\n",
       "<style scoped>\n",
       "    .dataframe tbody tr th:only-of-type {\n",
       "        vertical-align: middle;\n",
       "    }\n",
       "\n",
       "    .dataframe tbody tr th {\n",
       "        vertical-align: top;\n",
       "    }\n",
       "\n",
       "    .dataframe thead th {\n",
       "        text-align: right;\n",
       "    }\n",
       "</style>\n",
       "<table border=\"1\" class=\"dataframe\">\n",
       "  <thead>\n",
       "    <tr style=\"text-align: right;\">\n",
       "      <th></th>\n",
       "      <th>Biomas</th>\n",
       "      <th>Área de Proteção Integral (ha)</th>\n",
       "      <th>Área de Uso Sustentável (ha)</th>\n",
       "      <th>Área total (ha)</th>\n",
       "      <th>%</th>\n",
       "    </tr>\n",
       "  </thead>\n",
       "  <tbody>\n",
       "    <tr>\n",
       "      <th>0</th>\n",
       "      <td>Amazônia</td>\n",
       "      <td>43.019.000</td>\n",
       "      <td>76.658.900</td>\n",
       "      <td>119.677.800</td>\n",
       "      <td>73,74</td>\n",
       "    </tr>\n",
       "    <tr>\n",
       "      <th>1</th>\n",
       "      <td>Caatinga</td>\n",
       "      <td>1.117.400</td>\n",
       "      <td>5.359.300</td>\n",
       "      <td>6.476.700</td>\n",
       "      <td>3,99</td>\n",
       "    </tr>\n",
       "    <tr>\n",
       "      <th>2</th>\n",
       "      <td>Cerrado</td>\n",
       "      <td>6.489.700</td>\n",
       "      <td>11.245.800</td>\n",
       "      <td>17.735.500</td>\n",
       "      <td>10,93</td>\n",
       "    </tr>\n",
       "    <tr>\n",
       "      <th>3</th>\n",
       "      <td>Pantanal</td>\n",
       "      <td>440.300</td>\n",
       "      <td>248.800</td>\n",
       "      <td>689.100</td>\n",
       "      <td>0,42</td>\n",
       "    </tr>\n",
       "    <tr>\n",
       "      <th>4</th>\n",
       "      <td>Mata Atlântica</td>\n",
       "      <td>2.871.100</td>\n",
       "      <td>8.671.900</td>\n",
       "      <td>11.543.100</td>\n",
       "      <td>7,11</td>\n",
       "    </tr>\n",
       "    <tr>\n",
       "      <th>5</th>\n",
       "      <td>Pampa</td>\n",
       "      <td>85.400</td>\n",
       "      <td>421.900</td>\n",
       "      <td>507.300</td>\n",
       "      <td>0,31</td>\n",
       "    </tr>\n",
       "  </tbody>\n",
       "</table>\n",
       "</div>"
      ],
      "text/plain": [
       "           Biomas Área de Proteção Integral (ha) Área de Uso Sustentável (ha)  \\\n",
       "0        Amazônia                     43.019.000                   76.658.900   \n",
       "1        Caatinga                      1.117.400                    5.359.300   \n",
       "2         Cerrado                      6.489.700                   11.245.800   \n",
       "3        Pantanal                        440.300                      248.800   \n",
       "4  Mata Atlântica                      2.871.100                    8.671.900   \n",
       "5           Pampa                         85.400                      421.900   \n",
       "\n",
       "  Área total (ha)      %  \n",
       "0     119.677.800  73,74  \n",
       "1       6.476.700   3,99  \n",
       "2      17.735.500  10,93  \n",
       "3         689.100   0,42  \n",
       "4      11.543.100   7,11  \n",
       "5         507.300   0,31  "
      ]
     },
     "execution_count": 33,
     "metadata": {},
     "output_type": "execute_result"
    }
   ],
   "source": [
    "f_bioma"
   ]
  },
  {
   "cell_type": "code",
   "execution_count": 10,
   "metadata": {},
   "outputs": [],
   "source": [
    "biomas_df = pd.read_csv('DataSets/bioma.csv', sep =';')"
   ]
  },
  {
   "cell_type": "code",
   "execution_count": 50,
   "metadata": {},
   "outputs": [
    {
     "data": {
      "text/html": [
       "<div>\n",
       "<style scoped>\n",
       "    .dataframe tbody tr th:only-of-type {\n",
       "        vertical-align: middle;\n",
       "    }\n",
       "\n",
       "    .dataframe tbody tr th {\n",
       "        vertical-align: top;\n",
       "    }\n",
       "\n",
       "    .dataframe thead th {\n",
       "        text-align: right;\n",
       "    }\n",
       "</style>\n",
       "<table border=\"1\" class=\"dataframe\">\n",
       "  <thead>\n",
       "    <tr style=\"text-align: right;\">\n",
       "      <th></th>\n",
       "      <th>ID_Bioma</th>\n",
       "      <th>Bioma</th>\n",
       "    </tr>\n",
       "  </thead>\n",
       "  <tbody>\n",
       "    <tr>\n",
       "      <th>0</th>\n",
       "      <td>0</td>\n",
       "      <td>Caatinga</td>\n",
       "    </tr>\n",
       "    <tr>\n",
       "      <th>1</th>\n",
       "      <td>1</td>\n",
       "      <td>Cerrado</td>\n",
       "    </tr>\n",
       "    <tr>\n",
       "      <th>2</th>\n",
       "      <td>2</td>\n",
       "      <td>Mata Atlântica</td>\n",
       "    </tr>\n",
       "    <tr>\n",
       "      <th>3</th>\n",
       "      <td>3</td>\n",
       "      <td>Pampa</td>\n",
       "    </tr>\n",
       "    <tr>\n",
       "      <th>4</th>\n",
       "      <td>4</td>\n",
       "      <td>Pantanal</td>\n",
       "    </tr>\n",
       "    <tr>\n",
       "      <th>5</th>\n",
       "      <td>5</td>\n",
       "      <td>Amazônia Legal</td>\n",
       "    </tr>\n",
       "  </tbody>\n",
       "</table>\n",
       "</div>"
      ],
      "text/plain": [
       "   ID_Bioma           Bioma\n",
       "0         0        Caatinga\n",
       "1         1         Cerrado\n",
       "2         2  Mata Atlântica\n",
       "3         3           Pampa\n",
       "4         4        Pantanal\n",
       "5         5  Amazônia Legal"
      ]
     },
     "execution_count": 50,
     "metadata": {},
     "output_type": "execute_result"
    }
   ],
   "source": [
    "biomas_df"
   ]
  },
  {
   "cell_type": "code",
   "execution_count": 22,
   "metadata": {},
   "outputs": [
    {
     "data": {
      "text/plain": [
       "['Caatinga',\n",
       " 'Cerrado',\n",
       " 'Mata Atlântica',\n",
       " 'Pampa',\n",
       " 'Pantanal',\n",
       " 'Amazônia Legal']"
      ]
     },
     "execution_count": 22,
     "metadata": {},
     "output_type": "execute_result"
    }
   ],
   "source": [
    "list_biomas = biomas_df['Bioma'].unique().tolist()\n",
    "list_biomas"
   ]
  },
  {
   "cell_type": "code",
   "execution_count": 48,
   "metadata": {},
   "outputs": [
    {
     "data": {
      "text/plain": [
       "['1.117.400', '6.489.700', '2.871.100', '85.400', '440.300', '43.019.000']"
      ]
     },
     "execution_count": 48,
     "metadata": {},
     "output_type": "execute_result"
    }
   ],
   "source": [
    "area_protecao_integral = []\n",
    "for i in range(len(f_bioma)):\n",
    "    bioma = biomas_df['Bioma'].iloc[i]\n",
    "    if bioma == 'Amazônia Legal':\n",
    "        bioma = 'Amazônia'\n",
    "    area = (f_bioma['Área de Proteção Integral (ha)'].where(f_bioma['Biomas'] == bioma).dropna(how = 'all')).tolist()\n",
    "    area = area[0]\n",
    "    area_protecao_integral.append(area)    \n",
    "area_protecao_integral"
   ]
  },
  {
   "cell_type": "code",
   "execution_count": 56,
   "metadata": {},
   "outputs": [],
   "source": [
    "biomas_df['Área_proteção_integral'] = area_protecao_integral"
   ]
  },
  {
   "cell_type": "code",
   "execution_count": 57,
   "metadata": {},
   "outputs": [],
   "source": [
    "biomas_df = biomas_df[['Bioma', 'Área_proteção_integral']]"
   ]
  },
  {
   "cell_type": "code",
   "execution_count": 58,
   "metadata": {},
   "outputs": [
    {
     "data": {
      "text/html": [
       "<div>\n",
       "<style scoped>\n",
       "    .dataframe tbody tr th:only-of-type {\n",
       "        vertical-align: middle;\n",
       "    }\n",
       "\n",
       "    .dataframe tbody tr th {\n",
       "        vertical-align: top;\n",
       "    }\n",
       "\n",
       "    .dataframe thead th {\n",
       "        text-align: right;\n",
       "    }\n",
       "</style>\n",
       "<table border=\"1\" class=\"dataframe\">\n",
       "  <thead>\n",
       "    <tr style=\"text-align: right;\">\n",
       "      <th></th>\n",
       "      <th>Bioma</th>\n",
       "      <th>Área_proteção_integral</th>\n",
       "    </tr>\n",
       "  </thead>\n",
       "  <tbody>\n",
       "    <tr>\n",
       "      <th>0</th>\n",
       "      <td>Caatinga</td>\n",
       "      <td>1.117.400</td>\n",
       "    </tr>\n",
       "    <tr>\n",
       "      <th>1</th>\n",
       "      <td>Cerrado</td>\n",
       "      <td>6.489.700</td>\n",
       "    </tr>\n",
       "    <tr>\n",
       "      <th>2</th>\n",
       "      <td>Mata Atlântica</td>\n",
       "      <td>2.871.100</td>\n",
       "    </tr>\n",
       "    <tr>\n",
       "      <th>3</th>\n",
       "      <td>Pampa</td>\n",
       "      <td>85.400</td>\n",
       "    </tr>\n",
       "    <tr>\n",
       "      <th>4</th>\n",
       "      <td>Pantanal</td>\n",
       "      <td>440.300</td>\n",
       "    </tr>\n",
       "    <tr>\n",
       "      <th>5</th>\n",
       "      <td>Amazônia Legal</td>\n",
       "      <td>43.019.000</td>\n",
       "    </tr>\n",
       "  </tbody>\n",
       "</table>\n",
       "</div>"
      ],
      "text/plain": [
       "            Bioma Área_proteção_integral\n",
       "0        Caatinga              1.117.400\n",
       "1         Cerrado              6.489.700\n",
       "2  Mata Atlântica              2.871.100\n",
       "3           Pampa                 85.400\n",
       "4        Pantanal                440.300\n",
       "5  Amazônia Legal             43.019.000"
      ]
     },
     "execution_count": 58,
     "metadata": {},
     "output_type": "execute_result"
    }
   ],
   "source": [
    "biomas_df"
   ]
  },
  {
   "cell_type": "code",
   "execution_count": 83,
   "metadata": {},
   "outputs": [],
   "source": [
    "file = open('upar/bioma.csv', 'w')"
   ]
  },
  {
   "cell_type": "code",
   "execution_count": 84,
   "metadata": {},
   "outputs": [],
   "source": [
    "file.write('Bioma;Área_proteção_integral\\n')\n",
    "for row in zip(biomas_df['Bioma'], biomas_df['Área_proteção_integral']):\n",
    "    linha = ''\n",
    "    for i in range(len(row)):\n",
    "        if i == len(row)-1:\n",
    "             linha += str(row[i]) +'\\n'\n",
    "        else:\n",
    "            linha += str(row[i]) +';'        \n",
    "    file.write(linha)"
   ]
  },
  {
   "cell_type": "code",
   "execution_count": 85,
   "metadata": {},
   "outputs": [],
   "source": [
    "file.close()"
   ]
  },
  {
   "cell_type": "markdown",
   "metadata": {},
   "source": [
    "# Concertando burradas"
   ]
  },
  {
   "cell_type": "markdown",
   "metadata": {},
   "source": [
    "### Burrada no desmatamento"
   ]
  },
  {
   "cell_type": "code",
   "execution_count": 124,
   "metadata": {},
   "outputs": [],
   "source": [
    "f = open('DataSets/desmatamento.csv', 'r')"
   ]
  },
  {
   "cell_type": "code",
   "execution_count": 125,
   "metadata": {},
   "outputs": [],
   "source": [
    "arquivo = f.read()"
   ]
  },
  {
   "cell_type": "code",
   "execution_count": 127,
   "metadata": {},
   "outputs": [],
   "source": [
    "f.close()"
   ]
  },
  {
   "cell_type": "code",
   "execution_count": 126,
   "metadata": {},
   "outputs": [],
   "source": [
    "arquivo = arquivo.split('\\n')"
   ]
  },
  {
   "cell_type": "code",
   "execution_count": 128,
   "metadata": {},
   "outputs": [
    {
     "data": {
      "text/plain": [
       "['ID_data;Bioma;Estado;Area_desmatada_hec',\n",
       " '246;Amazônia Legal;Acre;2074194,28;',\n",
       " '246;Amazônia Legal;Amapá;300224,71;']"
      ]
     },
     "execution_count": 128,
     "metadata": {},
     "output_type": "execute_result"
    }
   ],
   "source": [
    "arquivo[:3]"
   ]
  },
  {
   "cell_type": "code",
   "execution_count": 131,
   "metadata": {},
   "outputs": [],
   "source": [
    "for i in range(1,len(arquivo)):\n",
    "    arquivo[i] = arquivo[i][:-1]"
   ]
  },
  {
   "cell_type": "code",
   "execution_count": 132,
   "metadata": {},
   "outputs": [
    {
     "data": {
      "text/plain": [
       "['ID_data;Bioma;Estado;Area_desmatada_hec',\n",
       " '246;Amazônia Legal;Acre;2074194,28',\n",
       " '246;Amazônia Legal;Amapá;300224,71']"
      ]
     },
     "execution_count": 132,
     "metadata": {},
     "output_type": "execute_result"
    }
   ],
   "source": [
    "arquivo[:3]"
   ]
  },
  {
   "cell_type": "code",
   "execution_count": 136,
   "metadata": {},
   "outputs": [],
   "source": [
    "f_desmatamento = open('upar/desmatamento.csv','w')"
   ]
  },
  {
   "cell_type": "code",
   "execution_count": 137,
   "metadata": {},
   "outputs": [],
   "source": [
    "for line in arquivo:\n",
    "    f_desmatamento.write(line + '\\n')"
   ]
  },
  {
   "cell_type": "code",
   "execution_count": 138,
   "metadata": {},
   "outputs": [],
   "source": [
    "f_desmatamento.close()"
   ]
  },
  {
   "cell_type": "markdown",
   "metadata": {},
   "source": [
    "### Burrada no florestas_plantadas"
   ]
  },
  {
   "cell_type": "code",
   "execution_count": 145,
   "metadata": {},
   "outputs": [],
   "source": [
    "f = open('DataSets/florestas_plantadas.csv', 'r')\n",
    "arquivo = f.read()\n",
    "arquivo = arquivo.split('\\n')\n",
    "f.close()"
   ]
  },
  {
   "cell_type": "code",
   "execution_count": 146,
   "metadata": {},
   "outputs": [],
   "source": [
    "for i in range(1,len(arquivo)):\n",
    "    arquivo[i] = arquivo[i][:-1]"
   ]
  },
  {
   "cell_type": "code",
   "execution_count": 147,
   "metadata": {},
   "outputs": [],
   "source": [
    "f_florestas_plantadas = open('upar/florestas_plantadas.csv', 'w')"
   ]
  },
  {
   "cell_type": "code",
   "execution_count": 148,
   "metadata": {},
   "outputs": [],
   "source": [
    "for line in arquivo:\n",
    "    f_florestas_plantadas.write(line + '\\n')"
   ]
  },
  {
   "cell_type": "code",
   "execution_count": 149,
   "metadata": {},
   "outputs": [],
   "source": [
    "f_florestas_plantadas.close()"
   ]
  },
  {
   "cell_type": "code",
   "execution_count": null,
   "metadata": {},
   "outputs": [],
   "source": [
    "###"
   ]
  }
 ],
 "metadata": {
  "kernelspec": {
   "display_name": "Python 3",
   "language": "python",
   "name": "python3"
  },
  "language_info": {
   "codemirror_mode": {
    "name": "ipython",
    "version": 3
   },
   "file_extension": ".py",
   "mimetype": "text/x-python",
   "name": "python",
   "nbconvert_exporter": "python",
   "pygments_lexer": "ipython3",
   "version": "3.7.3"
  }
 },
 "nbformat": 4,
 "nbformat_minor": 2
}
